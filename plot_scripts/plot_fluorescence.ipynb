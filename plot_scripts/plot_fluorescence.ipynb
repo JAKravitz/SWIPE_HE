{
 "cells": [
  {
   "cell_type": "code",
   "execution_count": 25,
   "id": "ee8749c0-e786-4982-bd52-a91e8041c2e6",
   "metadata": {},
   "outputs": [
    {
     "name": "stdout",
     "output_type": "stream",
     "text": [
      "['MI_case1V3_mvil2cizg6.txt', '.ipynb_checkpoints', 'MI_case1V3_1ncx3oig93.txt', 'MI_case1V3_76283yxqwh.txt', 'MI_case1V3_a1nlo8ttef.txt', 'MI_case1V3_osptqhlu1t.txt']\n"
     ]
    }
   ],
   "source": [
    "import pickle\n",
    "import os\n",
    "import numpy as np\n",
    "import pandas as pd\n",
    "from scipy import integrate\n",
    "import matplotlib.pyplot as plt\n",
    "\n",
    "path = '/nobackup/jakravit/data/HE60/output/EcoLight/excel/'\n",
    "dirlist = os.listdir(path)\n",
    "\n",
    "print(dirlist)"
   ]
  },
  {
   "cell_type": "code",
   "execution_count": 49,
   "id": "0da6b231-0673-49e6-8ced-075e9eeee502",
   "metadata": {},
   "outputs": [],
   "source": [
    "outFile = path + 'MI_case1V3_osptqhlu1t.txt'\n",
    "uid = 'osptqhlu1t'\n",
    "bname = '/nobackup/jakravit/data/HE60/batch_data/case1V3_inputs.csv'\n",
    "\n",
    "rrsheader = ['in air', 'Rrs']\n",
    "\n",
    "line_num = 0\n",
    "with open(outFile, 'r') as f:\n",
    "    lines = f.readlines()\n",
    "\n",
    "for line in lines:\n",
    "    line_num += 1\n",
    "    if all(x in line.strip().replace('\"', '').replace(\"'\", \"\") for x in rrsheader):\n",
    "        header = line_num\n",
    "        l = line\n",
    "        # print (line_num, line)\n",
    "    else:\n",
    "        pass\n",
    "\n",
    "lines = np.arange(header,header+201,1)\n",
    "end = header+201\n",
    "rrs = []\n",
    "lw = []\n",
    "ed = []\n",
    "wl = []\n",
    "lu = []\n",
    "\n",
    "i = 0\n",
    "with open(outFile, \"r+\") as fp:\n",
    "    # access each line\n",
    "    while True:\n",
    "        line = fp.readline()\n",
    "        # check line number\n",
    "        if i in lines:\n",
    "            wl.append(line.strip().split('   ')[0] )\n",
    "            rrs.append(line.strip().split('   ')[1] )\n",
    "            ed.append(line.strip().split('   ')[2] )\n",
    "            lw.append(line.strip().split('   ')[3])\n",
    "            lu.append(line.strip().split('   ')[4] )\n",
    "        # line number greater than needed exit the loop\n",
    "        # lines[-1] give last item from list\n",
    "        if i > end:\n",
    "            break;\n",
    "        i = i + 1\n",
    "\n",
    "wl = np.array(wl).astype(float)\n",
    "rrs = np.array(rrs).astype(float)\n",
    "lw = np.array(lw).astype(float)\n",
    "lu = np.array(lu).astype(float)\n",
    "ed = np.array(ed).astype(float)\n",
    "lg = lu-lw\n",
    "rrsg = lg / ed\n",
    "rrsgmean = rrsg.mean()\n",
    "rrstot = lu / ed"
   ]
  },
  {
   "cell_type": "code",
   "execution_count": 50,
   "id": "ae9c63fe-4a46-4539-b728-62d1496b7307",
   "metadata": {},
   "outputs": [],
   "source": [
    "kparheadlist = ['depth', 'K_PAR (from Eo)', 'K_d (broadband)']\n",
    "parheadlist = ['depth', 'PAR_Eo', 'PAR_Ed']\n",
    "bheadlist = ['scat coef b']\n",
    "aheadlist = ['abs coef a']\n",
    "\n",
    "line_num = 0\n",
    "with open(outFile, 'r') as f:\n",
    "    lines = f.readlines()\n",
    "\n",
    "for line in lines:\n",
    "    line_num += 1\n",
    "    if all(x in line.strip().replace('\"', '').replace(\"'\", \"\") for x in kparheadlist):\n",
    "        kparheader = line_num\n",
    "        l1 = line\n",
    "\n",
    "    elif all(x in line.strip().replace('\"', '').replace(\"'\", \"\") for x in parheadlist):\n",
    "        parheader = line_num \n",
    "        l2 = line\n",
    "\n",
    "    elif all(x in line.strip().replace('\"', '').replace(\"'\", \"\") for x in bheadlist):\n",
    "        bheader = line_num \n",
    "        l3 = line\n",
    "\n",
    "    elif all(x in line.strip().replace('\"', '').replace(\"'\", \"\") for x in aheadlist):\n",
    "        aheader = line_num\n",
    "        l4 = line\n",
    "\n",
    "    else:\n",
    "        pass  "
   ]
  },
  {
   "cell_type": "code",
   "execution_count": 51,
   "id": "fe1d2212-9094-4ada-bace-71bdc68be8ea",
   "metadata": {},
   "outputs": [],
   "source": [
    "# lines = np.arange(header,header+201,1)\n",
    "# end = header+201\n",
    "\n",
    "kparline = kparheader\n",
    "parline = parheader + 1\n",
    "blines = np.arange(bheader+2, bheader+203, 1)\n",
    "alines = np.arange(aheader+2, aheader+203, 1)\n",
    "end = aheader+203\n",
    "\n",
    "kpar = []\n",
    "par = []\n",
    "b = []\n",
    "a = []\n",
    "\n",
    "i = 0\n",
    "with open(outFile, \"r+\") as fp:\n",
    "    # access each line\n",
    "    while True:\n",
    "        line = fp.readline()\n",
    "        \n",
    "        # check line number\n",
    "        if i == kparline:\n",
    "            kpar.append(line.strip().split('   ')[1])\n",
    "        elif i == parline:\n",
    "            par.append(line.strip().split('   ')[1])\n",
    "        elif i in blines:\n",
    "            b.append(line.strip().split('   ')[1] )\n",
    "        elif i in alines:\n",
    "            a.append(line.strip().split('   ')[1] )\n",
    "        \n",
    "        if i > end:\n",
    "            break;\n",
    "        i = i + 1\n",
    "\n",
    "kpar = float(kpar[0])\n",
    "par = float(par[0])\n",
    "a = np.array(a).astype(float)\n",
    "b = np.array(b).astype(float)\n",
    "c = a + b\n",
    "ctot685 = c[114] # 685 nm \n",
    "ctot740 = c[136] # 740 nm \n"
   ]
  },
  {
   "cell_type": "code",
   "execution_count": 56,
   "id": "804bcc89-b35f-49f6-887d-b56ee4115a5d",
   "metadata": {},
   "outputs": [
    {
     "name": "stdout",
     "output_type": "stream",
     "text": [
      "0.480064\n"
     ]
    }
   ],
   "source": [
    "print (ctot685)"
   ]
  },
  {
   "cell_type": "code",
   "execution_count": 52,
   "id": "ed875d6c-2732-4495-8eb7-14fb4346a624",
   "metadata": {},
   "outputs": [],
   "source": [
    "bdata = pd.read_csv(bname,index_col=0)\n",
    "aphyEuk = bdata.filter(regex='^aphyEuk')\n",
    "aphyCy = bdata.filter(regex='^aphyCy')\n",
    "fqy = bdata.loc[uid,'FQY']\n",
    "# qa = bdata.loc[uid,'Qa']\n",
    "qa = np.random.choice([.3,.4,.5,.6])"
   ]
  },
  {
   "cell_type": "code",
   "execution_count": 53,
   "id": "4e247918-2ef8-45cd-82e4-3f2790ff2394",
   "metadata": {},
   "outputs": [],
   "source": [
    "aphyEukSim = aphyEuk.loc[uid,:]\n",
    "aphyEukPar = aphyEukSim[:121].values\n",
    "\n",
    "aphyCySim = aphyCy.loc[uid,:]\n",
    "aphyCyPar = aphyCySim[:121].values\n",
    "\n",
    "lpar = np.arange(400, 702.5, 2.5)\n",
    "ps = np.random.choice(np.arange(.1,.21, .01))\n",
    "absdphy = integrate.simps(aphyEukPar, lpar) * par + \\\n",
    "        ((integrate.simps(aphyCyPar, lpar) * ps) * par)\n",
    "\n",
    "ktot_g1 = kpar + ctot685\n",
    "ktot_g2 = kpar + ctot740\n",
    "    \n",
    "absd_g1 = absdphy / ktot_g1\n",
    "absd_g2 = absdphy / ktot_g2\n",
    "\n",
    "lf_g1 = (.54 * (1 / (4 * np.pi)) * (fqy/25) * qa) * absd_g1\n",
    "lf_g2 = (.54 * (1 / (4 * np.pi)) * (fqy/50) * qa) * absd_g2\n",
    "\n",
    "flamp_g1 = (lf_g1 / 1.23) * .001\n",
    "flamp_g2 = (lf_g2 / 1.23) * .001"
   ]
  },
  {
   "cell_type": "code",
   "execution_count": 54,
   "id": "488684ed-67e8-4bf8-a696-5d010467e3d0",
   "metadata": {},
   "outputs": [],
   "source": [
    "def normal_dist(x , amp, mean , sd):\n",
    "    prob_density = amp * np.exp(-0.5*((x-mean)/sd)**2)\n",
    "    return prob_density\n",
    "\n",
    "pdf = normal_dist(wl, flamp_g1, 685, 25/2.355) + normal_dist(wl, flamp_g2, 740, 50/2.355)\n"
   ]
  },
  {
   "cell_type": "code",
   "execution_count": 55,
   "id": "c81d51f5-7468-4095-ad9a-841e245c2bf4",
   "metadata": {},
   "outputs": [
    {
     "data": {
      "text/plain": [
       "[<matplotlib.lines.Line2D at 0x2aaaf0bca790>]"
      ]
     },
     "execution_count": 55,
     "metadata": {},
     "output_type": "execute_result"
    },
    {
     "data": {
      "image/png": "[encoded data removed]",
      "text/plain": [
       "<Figure size 432x288 with 1 Axes>"
      ]
     },
     "metadata": {
      "needs_background": "light"
     },
     "output_type": "display_data"
    }
   ],
   "source": [
    "fig, ax = plt.subplots()\n",
    "ax.plot(wl,pdf, label='fl')\n",
    "ax.plot(wl,rrs, label='rrs')\n",
    "ax.plot(wl,rrs+pdf, label= 'rrstot')"
   ]
  },
  {
   "cell_type": "code",
   "execution_count": null,
   "id": "c721a235-0d71-4476-bffa-5fc5a3099c57",
   "metadata": {},
   "outputs": [],
   "source": []
  }
 ],
 "metadata": {
  "kernelspec": {
   "display_name": "Python 3 (ipykernel)",
   "language": "python",
   "name": "python3"
  },
  "language_info": {
   "codemirror_mode": {
    "name": "ipython",
    "version": 3
   },
   "file_extension": ".py",
   "mimetype": "text/x-python",
   "name": "python",
   "nbconvert_exporter": "python",
   "pygments_lexer": "ipython3",
   "version": "3.9.12"
  }
 },
 "nbformat": 4,
 "nbformat_minor": 5
}
