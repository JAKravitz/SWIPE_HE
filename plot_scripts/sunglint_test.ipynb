{
 "cells": [
  {
   "cell_type": "code",
   "execution_count": 1,
   "id": "9b79237f-f568-4f0c-bd01-caa17a41fab1",
   "metadata": {},
   "outputs": [],
   "source": [
    "import numpy as np\n",
    "import pandas as pd\n",
    "import matplotlib.pyplot as plt\n",
    "import os"
   ]
  },
  {
   "cell_type": "code",
   "execution_count": 2,
   "id": "cbe74dcc-4eed-41e9-a41b-0b236ac708e2",
   "metadata": {},
   "outputs": [],
   "source": [
    "file = '/nobackup/jakravit/data/HE60/output/EcoLight/excel/Msg_H_wind_H_sza.txt'"
   ]
  },
  {
   "cell_type": "code",
   "execution_count": 30,
   "id": "5cb8c665-99a9-432a-bd01-146d7f8e96ae",
   "metadata": {},
   "outputs": [],
   "source": [
    "# file = 'MI_case1V1_0e6u36s5v0.txt'\n",
    "rrsheader = ['in air', 'Rrs']\n",
    "rrs_list = []\n",
    "\n",
    "def aop(file):\n",
    "    line_num = 0\n",
    "    with open(file, 'r') as f:\n",
    "        lines = f.readlines()\n",
    "\n",
    "    for line in lines:\n",
    "        line_num += 1\n",
    "        if all(x in line.strip().replace('\"', '').replace(\"'\", \"\") for x in rrsheader):\n",
    "            header = line_num\n",
    "            l = line\n",
    "            # print (line_num, line)\n",
    "        else:\n",
    "            pass\n",
    "        \n",
    "    lines = np.arange(header,header+200,1)\n",
    "    end = header+200\n",
    "    rrs = []\n",
    "    lw = []\n",
    "    ed = []\n",
    "    wl = []\n",
    "    lu = []\n",
    "\n",
    "    i = 0\n",
    "    with open(file, \"r+\") as fp:\n",
    "        # access each line\n",
    "        while True:\n",
    "            line = fp.readline()\n",
    "            # check line number\n",
    "            if i in lines:\n",
    "                wl.append(line.strip().split('   ')[0] )\n",
    "                rrs.append(line.strip().split('   ')[1] )\n",
    "                ed.append(line.strip().split('   ')[2] )\n",
    "                lw.append(line.strip().split('   ')[3])\n",
    "                lu.append(line.strip().split('   ')[4] )\n",
    "            # line number greater than needed exit the loop\n",
    "            # lines[-1] give last item from list\n",
    "            if i > end:\n",
    "                break;\n",
    "            i = i + 1\n",
    "    \n",
    "    wl = np.array(wl).astype(float)\n",
    "    rrs = np.array(rrs).astype(float)\n",
    "    lw = np.array(lw).astype(float)\n",
    "    lu = np.array(lu).astype(float)\n",
    "    ed = np.array(ed).astype(float)\n",
    "    \n",
    "    lg = lu-lw\n",
    "    rrsg = lg / ed\n",
    "    rrsgmean = rrsg.mean()\n",
    "    rrstot = lu / ed\n",
    "    \n",
    "    return wl, rrs, rrsg, rrsgmean, rrstot\n",
    "    \n",
    "    "
   ]
  },
  {
   "cell_type": "code",
   "execution_count": 31,
   "id": "1a026eb4-4f51-47d1-86b7-18239fc56df6",
   "metadata": {},
   "outputs": [],
   "source": [
    "wl, rrs, rrsg, rrsgmean, rrstot = aop(file)"
   ]
  },
  {
   "cell_type": "code",
   "execution_count": 32,
   "id": "24d9c3b1-da40-4c5e-8b35-9a0734dc6128",
   "metadata": {},
   "outputs": [
    {
     "data": {
      "text/plain": [
       "<matplotlib.legend.Legend at 0x2aaaec147b50>"
      ]
     },
     "execution_count": 32,
     "metadata": {},
     "output_type": "execute_result"
    },
    {
     "data": {
      "image/png": "[encoded data removed]",
      "text/plain": [
       "<Figure size 432x288 with 1 Axes>"
      ]
     },
     "metadata": {
      "needs_background": "light"
     },
     "output_type": "display_data"
    }
   ],
   "source": [
    "plt.plot(wl,rrs, label='Rrs', marker='x')\n",
    "plt.plot(wl,rrsg, label = 'Rrs sg')\n",
    "plt.plot(wl, rrstot, label = 'Rrs tot')\n",
    "plt.plot(wl, rrs+rrsgmean, label='Rrs tot mod')\n",
    "plt.legend()"
   ]
  },
  {
   "cell_type": "code",
   "execution_count": null,
   "id": "b7a86a4e-299e-4e21-822c-cbb8e214208e",
   "metadata": {},
   "outputs": [],
   "source": [
    "kparheader = ['in air', 'Rrs']\n",
    "\n",
    "line_num = 0\n",
    "with open(file, 'r') as f:\n",
    "    lines = f.readlines()\n",
    "\n",
    "for line in lines:\n",
    "    line_num += 1\n",
    "    if all(x in line.strip().replace('\"', '').replace(\"'\", \"\") for x in rrsheader):\n",
    "        header = line_num\n",
    "        l = line\n",
    "        # print (line_num, line)\n",
    "    else:\n",
    "        pass   "
   ]
  }
 ],
 "metadata": {
  "kernelspec": {
   "display_name": "Python 3 (ipykernel)",
   "language": "python",
   "name": "python3"
  },
  "language_info": {
   "codemirror_mode": {
    "name": "ipython",
    "version": 3
   },
   "file_extension": ".py",
   "mimetype": "text/x-python",
   "name": "python",
   "nbconvert_exporter": "python",
   "pygments_lexer": "ipython3",
   "version": "3.9.12"
  }
 },
 "nbformat": 4,
 "nbformat_minor": 5
}
