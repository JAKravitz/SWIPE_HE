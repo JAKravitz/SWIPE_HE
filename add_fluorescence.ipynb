{
 "cells": [
  {
   "cell_type": "code",
   "execution_count": 4,
   "id": "0740dbe7-6713-4dcf-8562-59b4a7ec5d6e",
   "metadata": {},
   "outputs": [],
   "source": [
    "import numpy as np\n",
    "import matplotlib.pyplot as plt\n",
    "from scipy.stats import norm\n",
    "import statistics\n",
    "from scipy import integrate\n",
    "import pickle"
   ]
  },
  {
   "cell_type": "code",
   "execution_count": null,
   "id": "44077723-f149-4a36-9353-2b0ad814ed49",
   "metadata": {},
   "outputs": [],
   "source": [
    "# Calculating mean and standard deviation\n",
    "# mean = statistics.mean(x_axis)\n",
    "# sd = statistics.stdev(x_axis)\n",
    "  \n",
    "# plt.plot(x_axis, norm.pdf(x_axis, mean, sd))"
   ]
  },
  {
   "cell_type": "code",
   "execution_count": 6,
   "id": "2c40d2aa-134c-4eb9-b293-757eba30c615",
   "metadata": {},
   "outputs": [],
   "source": [
    "with open('/nobackup/jakravit/data/HE60/pickles/2weas28c6m.p','rb') as f:\n",
    "    data = pickle.load(f)"
   ]
  },
  {
   "cell_type": "code",
   "execution_count": 7,
   "id": "b77b5678-5a28-4849-a7b3-c64e1924366a",
   "metadata": {},
   "outputs": [
    {
     "data": {
      "text/plain": [
       "dict_keys(['VSF_angles', 'lambda', 'Phyto', 'Min', 'Det', 'CDOM', 'Depth', 'Benthic', 'Adjacency', 'Atm'])"
      ]
     },
     "execution_count": 7,
     "metadata": {},
     "output_type": "execute_result"
    }
   ],
   "source": [
    "data.keys()"
   ]
  },
  {
   "cell_type": "code",
   "execution_count": 8,
   "id": "f9e6f42b-f8ab-4780-9253-72f5768a1a9f",
   "metadata": {},
   "outputs": [
    {
     "data": {
      "text/plain": [
       "dict_keys(['TotChl', 'Rhodophytes', 'Haptophytes', 'Cryptophytes', 'Green_algae', 'Cyano_red', 'Diatoms', 'Dinoflagellates', 'Cyano_blue', 'Eustigmatophyte', 'a_tot', 'b_tot', 'c_tot', 'bb_tot'])"
      ]
     },
     "execution_count": 8,
     "metadata": {},
     "output_type": "execute_result"
    }
   ],
   "source": [
    "data['Phyto'].keys()"
   ]
  },
  {
   "cell_type": "code",
   "execution_count": null,
   "id": "40bfec43-2acb-4b3f-b375-4afc89c4df89",
   "metadata": {},
   "outputs": [],
   "source": []
  }
 ],
 "metadata": {
  "kernelspec": {
   "display_name": "Python 3 (ipykernel)",
   "language": "python",
   "name": "python3"
  },
  "language_info": {
   "codemirror_mode": {
    "name": "ipython",
    "version": 3
   },
   "file_extension": ".py",
   "mimetype": "text/x-python",
   "name": "python",
   "nbconvert_exporter": "python",
   "pygments_lexer": "ipython3",
   "version": "3.9.12"
  }
 },
 "nbformat": 4,
 "nbformat_minor": 5
}
